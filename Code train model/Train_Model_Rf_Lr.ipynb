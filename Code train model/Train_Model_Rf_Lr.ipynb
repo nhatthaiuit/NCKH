{
  "cells": [
    {
      "cell_type": "code",
      "execution_count": null,
      "metadata": {
        "id": "GVdOK-aAcR-9"
      },
      "outputs": [],
      "source": [
        "# =====================================================\n",
        "#     Tên: Real Estate Price Prediction\n",
        "#     Nghiên cứu khoa học: \"Nghiên cứu tối ưu mô hình kết hợp\n",
        "#     trong việc dự đoán giá nhà tại Hà Nội\"\n",
        "#     Mô hình sử dụng: Linear Regression & XGBoost\n",
        "# ====================================================="
      ]
    },
    {
      "cell_type": "code",
      "execution_count": null,
      "metadata": {
        "id": "w1mGMuG8cZCS"
      },
      "outputs": [],
      "source": [
        "# -------------------------------------------------\n",
        "# 0. CÀI THƯ VIỆN (Colab cài mới nhất đã hỗ trợ GPU)\n",
        "# -------------------------------------------------\n",
        "!pip install -U xgboost optuna --quiet"
      ]
    },
    {
      "cell_type": "code",
      "execution_count": null,
      "metadata": {
        "id": "2UMwEhdOcalv"
      },
      "outputs": [],
      "source": [
        "# -------------------------------------------------\n",
        "# 1. IMPORT & ĐỌC DỮ LIỆU\n",
        "# -------------------------------------------------\n",
        "import pandas as pd\n",
        "import numpy as np\n",
        "from pathlib import Path\n",
        "\n",
        "# --- tải/đọc CSV ---\n",
        "DATA_PATH = Path(\"data_processing.csv\")\n",
        "if not DATA_PATH.exists():\n",
        "    raise FileNotFoundError(f\"Không tìm thấy file: {DATA_PATH}\")\n",
        "data = pd.read_csv(DATA_PATH)\n",
        "\n",
        "target = \"price\"\n",
        "y = data[target]\n",
        "X = data.drop(columns=[target])"
      ]
    },
    {
      "cell_type": "code",
      "execution_count": null,
      "metadata": {
        "id": "BS4VVKzXccQP"
      },
      "outputs": [],
      "source": [
        "# -------------------------------------------------\n",
        "# 2. TIỀN XỬ LÝ: ColumnTransformer + Pipeline\n",
        "# -------------------------------------------------\n",
        "from sklearn.compose import ColumnTransformer\n",
        "from sklearn.preprocessing import StandardScaler\n",
        "from sklearn.pipeline import Pipeline\n",
        "\n",
        "num_cols  = X.select_dtypes(include=[\"int64\", \"float64\"]).columns\n",
        "bool_cols = X.select_dtypes(include=[\"bool\"]).columns  # 1‑hot district\n",
        "\n",
        "preprocess = ColumnTransformer([\n",
        "    (\"num\",  StandardScaler(),   num_cols),\n",
        "    (\"bool\", \"passthrough\",      bool_cols)  # giữ nguyên 0/1\n",
        "])"
      ]
    },
    {
      "cell_type": "code",
      "execution_count": null,
      "metadata": {
        "id": "Q7RCUHiGceyg"
      },
      "outputs": [],
      "source": [
        "# -------------------------------------------------\n",
        "# 3. ĐỊNH NGHĨA RMSLE & SCORER\n",
        "# -------------------------------------------------\n",
        "from sklearn.metrics import make_scorer, mean_squared_log_error\n",
        "\n",
        "def rmsle(y_true, y_pred):\n",
        "    # Cắt giá trị về >= 0 để tránh log(âm)\n",
        "    y_true = np.clip(y_true, 0, None)\n",
        "    y_pred = np.clip(y_pred, 0, None)\n",
        "    return np.sqrt(mean_squared_log_error(y_true, y_pred))\n",
        "\n",
        "# Tạo scorer cho cross_val_score,\n",
        "rmsle_scorer = make_scorer(rmsle, greater_is_better=False)"
      ]
    },
    {
      "cell_type": "code",
      "execution_count": null,
      "metadata": {
        "id": "m_deb_YNcgjp"
      },
      "outputs": [],
      "source": [
        "# -------------------------------------------------\n",
        "# 4. TÁCH TRAIN / TEST (80 % / 20 %)\n",
        "# -------------------------------------------------\n",
        "from sklearn.model_selection import train_test_split\n",
        "X_train, X_test, y_train, y_test = train_test_split(\n",
        "    X, y, test_size=0.2, random_state=42\n",
        ")"
      ]
    },
    {
      "cell_type": "code",
      "execution_count": null,
      "metadata": {
        "colab": {
          "base_uri": "https://localhost:8080/",
          "height": 1000,
          "referenced_widgets": [
            "e993d274c41f42cf8dfe6eefb37a7d9c",
            "a272af88342348ca8ae321e1394f13ae",
            "2b97036f5e59424d8eb733facf610161",
            "3fadf15e0fa84e6a96c9ead65512414b",
            "18695df4fa264b54b09052fbacc87134",
            "b2f43aa06ff54ca9a1fa91206d49861c",
            "8f7d9a9f283440ce8385f23439c609b7",
            "82a4d80e4d6b45eca9ef27fab2170d05",
            "74186d3ef9004953a23509dfb85d3ada",
            "cc4604aee43243b4b46cbe444e364a58",
            "5ae4f6561ffb49aa845daa52f386e567"
          ]
        },
        "id": "canAGKxqcjnI",
        "outputId": "85cfc7fe-d837-42aa-d7f2-c93ace92cc4d"
      },
      "outputs": [
        {
          "name": "stderr",
          "output_type": "stream",
          "text": [
            "[I 2025-04-22 01:17:07,530] A new study created in memory with name: no-name-9f6433c3-02ef-4e00-a811-e61730c0a998\n"
          ]
        },
        {
          "data": {
            "application/vnd.jupyter.widget-view+json": {
              "model_id": "e993d274c41f42cf8dfe6eefb37a7d9c",
              "version_major": 2,
              "version_minor": 0
            },
            "text/plain": [
              "  0%|          | 0/100 [00:00<?, ?it/s]"
            ]
          },
          "metadata": {},
          "output_type": "display_data"
        },
        {
          "name": "stdout",
          "output_type": "stream",
          "text": [
            "[I 2025-04-22 01:28:46,573] Trial 0 finished with value: 0.2342601292133871 and parameters: {'n_estimators': 1164, 'max_depth': 23, 'max_features': 0.49626556340379924, 'min_samples_split': 9, 'min_samples_leaf': 5, 'bootstrap': False}. Best is trial 0 with value: 0.2342601292133871.\n",
            "[I 2025-04-22 01:49:11,788] Trial 1 finished with value: 0.2222804652756384 and parameters: {'n_estimators': 1382, 'max_depth': 17, 'max_features': 0.9082875085395306, 'min_samples_split': 8, 'min_samples_leaf': 6, 'bootstrap': False}. Best is trial 1 with value: 0.2222804652756384.\n"
          ]
        },
        {
          "name": "stderr",
          "output_type": "stream",
          "text": [
            "/usr/local/lib/python3.11/dist-packages/joblib/externals/loky/process_executor.py:752: UserWarning: A worker stopped while some jobs were given to the executor. This can be caused by a too short worker timeout or by a memory leak.\n",
            "  warnings.warn(\n"
          ]
        },
        {
          "name": "stdout",
          "output_type": "stream",
          "text": [
            "[I 2025-04-22 01:59:28,267] Trial 2 finished with value: 0.23330411693702705 and parameters: {'n_estimators': 1084, 'max_depth': 26, 'max_features': 0.3603493525466315, 'min_samples_split': 2, 'min_samples_leaf': 2, 'bootstrap': False}. Best is trial 1 with value: 0.2222804652756384.\n",
            "[I 2025-04-22 02:10:14,096] Trial 3 finished with value: 0.2421639327997081 and parameters: {'n_estimators': 1316, 'max_depth': 15, 'max_features': 0.8032060900178202, 'min_samples_split': 9, 'min_samples_leaf': 7, 'bootstrap': True}. Best is trial 1 with value: 0.2222804652756384.\n",
            "[I 2025-04-22 02:19:07,831] Trial 4 finished with value: 0.23448319150242586 and parameters: {'n_estimators': 1072, 'max_depth': 19, 'max_features': 0.44819420795158726, 'min_samples_split': 10, 'min_samples_leaf': 2, 'bootstrap': False}. Best is trial 1 with value: 0.2222804652756384.\n",
            "[I 2025-04-22 02:26:32,579] Trial 5 finished with value: 0.2732023762488306 and parameters: {'n_estimators': 1110, 'max_depth': 20, 'max_features': 0.3716795684266129, 'min_samples_split': 10, 'min_samples_leaf': 9, 'bootstrap': False}. Best is trial 1 with value: 0.2222804652756384.\n",
            "[I 2025-04-22 02:39:14,006] Trial 6 finished with value: 0.22781638479876457 and parameters: {'n_estimators': 1382, 'max_depth': 15, 'max_features': 0.8974484886477532, 'min_samples_split': 7, 'min_samples_leaf': 4, 'bootstrap': True}. Best is trial 1 with value: 0.2222804652756384.\n",
            "[I 2025-04-22 02:45:52,657] Trial 7 finished with value: 0.2538739204711527 and parameters: {'n_estimators': 981, 'max_depth': 26, 'max_features': 0.5903143801313124, 'min_samples_split': 3, 'min_samples_leaf': 9, 'bootstrap': True}. Best is trial 1 with value: 0.2222804652756384.\n",
            "[I 2025-04-22 02:51:04,161] Trial 8 finished with value: 0.25124178955119936 and parameters: {'n_estimators': 620, 'max_depth': 15, 'max_features': 0.8624757295298835, 'min_samples_split': 2, 'min_samples_leaf': 10, 'bootstrap': True}. Best is trial 1 with value: 0.2222804652756384.\n",
            "[I 2025-04-22 02:56:14,447] Trial 9 finished with value: 0.6805504501297361 and parameters: {'n_estimators': 1431, 'max_depth': 4, 'max_features': 0.9171229654038968, 'min_samples_split': 5, 'min_samples_leaf': 4, 'bootstrap': False}. Best is trial 1 with value: 0.2222804652756384.\n",
            "[I 2025-04-22 03:00:08,867] Trial 10 finished with value: 0.3639892761824566 and parameters: {'n_estimators': 696, 'max_depth': 8, 'max_features': 0.7091806786655822, 'min_samples_split': 7, 'min_samples_leaf': 7, 'bootstrap': False}. Best is trial 1 with value: 0.2222804652756384.\n",
            "[I 2025-04-22 03:12:23,824] Trial 11 finished with value: 0.2403975840793946 and parameters: {'n_estimators': 1475, 'max_depth': 12, 'max_features': 0.9846736676746967, 'min_samples_split': 7, 'min_samples_leaf': 4, 'bootstrap': True}. Best is trial 1 with value: 0.2222804652756384.\n",
            "[I 2025-04-22 03:14:20,690] Trial 12 finished with value: 0.26976759835396913 and parameters: {'n_estimators': 321, 'max_depth': 11, 'max_features': 0.752212149481059, 'min_samples_split': 6, 'min_samples_leaf': 6, 'bootstrap': True}. Best is trial 1 with value: 0.2222804652756384.\n",
            "[I 2025-04-22 03:28:56,582] Trial 13 finished with value: 0.22553842731924068 and parameters: {'n_estimators': 1303, 'max_depth': 17, 'max_features': 0.9910764772817878, 'min_samples_split': 8, 'min_samples_leaf': 3, 'bootstrap': True}. Best is trial 1 with value: 0.2222804652756384.\n",
            "[I 2025-04-22 03:44:59,572] Trial 14 finished with value: 0.220775541946325 and parameters: {'n_estimators': 1251, 'max_depth': 21, 'max_features': 0.9814280052559256, 'min_samples_split': 8, 'min_samples_leaf': 1, 'bootstrap': True}. Best is trial 14 with value: 0.220775541946325.\n",
            "[I 2025-04-22 03:58:31,516] Trial 15 finished with value: 0.20632950168703007 and parameters: {'n_estimators': 877, 'max_depth': 30, 'max_features': 0.6506115945982485, 'min_samples_split': 5, 'min_samples_leaf': 1, 'bootstrap': False}. Best is trial 15 with value: 0.20632950168703007.\n",
            "[I 2025-04-22 04:06:59,446] Trial 16 finished with value: 0.22094429687075645 and parameters: {'n_estimators': 815, 'max_depth': 29, 'max_features': 0.6203000994913078, 'min_samples_split': 4, 'min_samples_leaf': 1, 'bootstrap': True}. Best is trial 15 with value: 0.20632950168703007.\n",
            "[I 2025-04-22 04:19:03,167] Trial 17 finished with value: 0.2099728455672917 and parameters: {'n_estimators': 860, 'max_depth': 30, 'max_features': 0.5781062098743721, 'min_samples_split': 5, 'min_samples_leaf': 1, 'bootstrap': False}. Best is trial 15 with value: 0.20632950168703007.\n",
            "[I 2025-04-22 04:25:51,530] Trial 18 finished with value: 0.21883681342470504 and parameters: {'n_estimators': 541, 'max_depth': 30, 'max_features': 0.5454003076292145, 'min_samples_split': 5, 'min_samples_leaf': 2, 'bootstrap': False}. Best is trial 15 with value: 0.20632950168703007.\n",
            "[I 2025-04-22 04:40:04,339] Trial 19 finished with value: 0.20618638737953376 and parameters: {'n_estimators': 864, 'max_depth': 26, 'max_features': 0.6817018015120851, 'min_samples_split': 4, 'min_samples_leaf': 1, 'bootstrap': False}. Best is trial 19 with value: 0.20618638737953376.\n",
            "[I 2025-04-22 04:50:56,603] Trial 20 finished with value: 0.21868397732278932 and parameters: {'n_estimators': 789, 'max_depth': 25, 'max_features': 0.6567366357518707, 'min_samples_split': 4, 'min_samples_leaf': 3, 'bootstrap': False}. Best is trial 19 with value: 0.20618638737953376.\n",
            "[I 2025-04-22 05:05:36,890] Trial 21 finished with value: 0.20619969146834144 and parameters: {'n_estimators': 920, 'max_depth': 28, 'max_features': 0.6856552168338377, 'min_samples_split': 5, 'min_samples_leaf': 1, 'bootstrap': False}. Best is trial 19 with value: 0.20618638737953376.\n",
            "[I 2025-04-22 05:22:06,634] Trial 22 finished with value: 0.20413446316010617 and parameters: {'n_estimators': 967, 'max_depth': 28, 'max_features': 0.7076374672107018, 'min_samples_split': 4, 'min_samples_leaf': 1, 'bootstrap': False}. Best is trial 22 with value: 0.20413446316010617.\n",
            "[I 2025-04-22 05:37:31,580] Trial 23 finished with value: 0.2153221828606069 and parameters: {'n_estimators': 1002, 'max_depth': 27, 'max_features': 0.7318227482391196, 'min_samples_split': 3, 'min_samples_leaf': 3, 'bootstrap': False}. Best is trial 22 with value: 0.20413446316010617.\n",
            "[I 2025-04-22 05:54:02,316] Trial 24 finished with value: 0.20667211834818633 and parameters: {'n_estimators': 967, 'max_depth': 23, 'max_features': 0.8018030689663411, 'min_samples_split': 4, 'min_samples_leaf': 2, 'bootstrap': False}. Best is trial 22 with value: 0.20413446316010617.\n",
            "[I 2025-04-22 06:06:51,639] Trial 25 finished with value: 0.20361285163503817 and parameters: {'n_estimators': 757, 'max_depth': 28, 'max_features': 0.6832582662680101, 'min_samples_split': 3, 'min_samples_leaf': 1, 'bootstrap': False}. Best is trial 25 with value: 0.20361285163503817.\n",
            "[I 2025-04-22 06:19:05,536] Trial 26 finished with value: 0.20711027337335128 and parameters: {'n_estimators': 722, 'max_depth': 24, 'max_features': 0.7823381503491796, 'min_samples_split': 3, 'min_samples_leaf': 2, 'bootstrap': False}. Best is trial 25 with value: 0.20361285163503817.\n",
            "[I 2025-04-22 06:24:05,274] Trial 27 finished with value: 0.22506952625426332 and parameters: {'n_estimators': 476, 'max_depth': 22, 'max_features': 0.5176698016553805, 'min_samples_split': 3, 'min_samples_leaf': 3, 'bootstrap': False}. Best is trial 25 with value: 0.20361285163503817.\n",
            "[I 2025-04-22 06:37:01,246] Trial 28 finished with value: 0.20101024846506238 and parameters: {'n_estimators': 732, 'max_depth': 28, 'max_features': 0.6866180124834647, 'min_samples_split': 2, 'min_samples_leaf': 1, 'bootstrap': False}. Best is trial 28 with value: 0.20101024846506238.\n",
            "[I 2025-04-22 06:43:16,026] Trial 29 finished with value: 0.2351556972873401 and parameters: {'n_estimators': 632, 'max_depth': 28, 'max_features': 0.47995185821611874, 'min_samples_split': 2, 'min_samples_leaf': 5, 'bootstrap': False}. Best is trial 28 with value: 0.20101024846506238.\n",
            "[I 2025-04-22 06:49:28,016] Trial 30 finished with value: 0.21562281535503275 and parameters: {'n_estimators': 390, 'max_depth': 24, 'max_features': 0.8344510137833037, 'min_samples_split': 2, 'min_samples_leaf': 5, 'bootstrap': False}. Best is trial 28 with value: 0.20101024846506238.\n",
            "[I 2025-04-22 07:01:36,146] Trial 31 finished with value: 0.20595371991865888 and parameters: {'n_estimators': 739, 'max_depth': 27, 'max_features': 0.6823192256144661, 'min_samples_split': 4, 'min_samples_leaf': 1, 'bootstrap': False}. Best is trial 28 with value: 0.20101024846506238.\n",
            "[I 2025-04-22 07:12:11,262] Trial 32 finished with value: 0.2132697118047196 and parameters: {'n_estimators': 745, 'max_depth': 28, 'max_features': 0.6166327247443135, 'min_samples_split': 3, 'min_samples_leaf': 2, 'bootstrap': False}. Best is trial 28 with value: 0.20101024846506238.\n",
            "[I 2025-04-22 07:24:10,426] Trial 33 finished with value: 0.1991397455051958 and parameters: {'n_estimators': 630, 'max_depth': 27, 'max_features': 0.7468150902769827, 'min_samples_split': 2, 'min_samples_leaf': 1, 'bootstrap': False}. Best is trial 33 with value: 0.1991397455051958.\n",
            "[I 2025-04-22 07:32:13,398] Trial 34 finished with value: 0.2080274551527411 and parameters: {'n_estimators': 471, 'max_depth': 25, 'max_features': 0.7509975211533682, 'min_samples_split': 2, 'min_samples_leaf': 2, 'bootstrap': False}. Best is trial 33 with value: 0.1991397455051958.\n",
            "[I 2025-04-22 07:41:23,110] Trial 35 finished with value: 0.21274693859784297 and parameters: {'n_estimators': 585, 'max_depth': 23, 'max_features': 0.774037770275402, 'min_samples_split': 2, 'min_samples_leaf': 3, 'bootstrap': False}. Best is trial 33 with value: 0.1991397455051958.\n",
            "[I 2025-04-22 07:53:24,114] Trial 36 finished with value: 0.20060917040112716 and parameters: {'n_estimators': 666, 'max_depth': 28, 'max_features': 0.7189511241756491, 'min_samples_split': 3, 'min_samples_leaf': 1, 'bootstrap': False}. Best is trial 33 with value: 0.1991397455051958.\n",
            "[I 2025-04-22 08:01:42,947] Trial 37 finished with value: 0.2042365712926654 and parameters: {'n_estimators': 519, 'max_depth': 19, 'max_features': 0.8412329648774506, 'min_samples_split': 3, 'min_samples_leaf': 2, 'bootstrap': False}. Best is trial 33 with value: 0.1991397455051958.\n",
            "[I 2025-04-22 08:08:35,188] Trial 38 finished with value: 0.22705921444990107 and parameters: {'n_estimators': 659, 'max_depth': 26, 'max_features': 0.4254705652311338, 'min_samples_split': 2, 'min_samples_leaf': 2, 'bootstrap': False}. Best is trial 33 with value: 0.1991397455051958.\n",
            "[I 2025-04-22 08:16:40,897] Trial 39 finished with value: 0.23516870243653637 and parameters: {'n_estimators': 778, 'max_depth': 19, 'max_features': 0.6184096632205895, 'min_samples_split': 3, 'min_samples_leaf': 7, 'bootstrap': False}. Best is trial 33 with value: 0.1991397455051958.\n",
            "[I 2025-04-22 08:25:46,503] Trial 40 finished with value: 0.2052704660127313 and parameters: {'n_estimators': 580, 'max_depth': 29, 'max_features': 0.5575627455495823, 'min_samples_split': 2, 'min_samples_leaf': 1, 'bootstrap': False}. Best is trial 33 with value: 0.1991397455051958.\n",
            "[I 2025-04-22 08:37:57,645] Trial 41 finished with value: 0.20100256727049803 and parameters: {'n_estimators': 677, 'max_depth': 27, 'max_features': 0.7214312233733482, 'min_samples_split': 3, 'min_samples_leaf': 1, 'bootstrap': False}. Best is trial 33 with value: 0.1991397455051958.\n",
            "[I 2025-04-22 08:49:14,348] Trial 42 finished with value: 0.20903147905991162 and parameters: {'n_estimators': 678, 'max_depth': 27, 'max_features': 0.7236926198736358, 'min_samples_split': 3, 'min_samples_leaf': 2, 'bootstrap': False}. Best is trial 33 with value: 0.1991397455051958.\n",
            "[I 2025-04-22 08:57:53,303] Trial 43 finished with value: 0.2337971458300056 and parameters: {'n_estimators': 617, 'max_depth': 25, 'max_features': 0.8153385538907497, 'min_samples_split': 2, 'min_samples_leaf': 8, 'bootstrap': False}. Best is trial 33 with value: 0.1991397455051958.\n",
            "[I 2025-04-22 09:05:13,225] Trial 44 finished with value: 0.23890608108167313 and parameters: {'n_estimators': 804, 'max_depth': 29, 'max_features': 0.3018028338861146, 'min_samples_split': 3, 'min_samples_leaf': 1, 'bootstrap': False}. Best is trial 33 with value: 0.1991397455051958.\n",
            "[I 2025-04-22 09:17:57,344] Trial 45 finished with value: 0.2022834569716511 and parameters: {'n_estimators': 672, 'max_depth': 27, 'max_features': 0.8807982053661864, 'min_samples_split': 2, 'min_samples_leaf': 2, 'bootstrap': False}. Best is trial 33 with value: 0.1991397455051958.\n",
            "[I 2025-04-22 09:29:22,115] Trial 46 finished with value: 0.21320508077946898 and parameters: {'n_estimators': 692, 'max_depth': 21, 'max_features': 0.8866833284066759, 'min_samples_split': 2, 'min_samples_leaf': 4, 'bootstrap': False}. Best is trial 33 with value: 0.1991397455051958.\n",
            "[I 2025-04-22 09:36:39,056] Trial 47 finished with value: 0.1997969086120953 and parameters: {'n_estimators': 394, 'max_depth': 26, 'max_features': 0.9296830697682953, 'min_samples_split': 2, 'min_samples_leaf': 3, 'bootstrap': False}. Best is trial 33 with value: 0.1991397455051958.\n",
            "[I 2025-04-22 09:40:19,912] Trial 48 finished with value: 0.22537298308961926 and parameters: {'n_estimators': 300, 'max_depth': 24, 'max_features': 0.9438045424940908, 'min_samples_split': 6, 'min_samples_leaf': 3, 'bootstrap': True}. Best is trial 33 with value: 0.1991397455051958.\n",
            "[I 2025-04-22 09:47:12,651] Trial 49 finished with value: 0.21071924762404648 and parameters: {'n_estimators': 389, 'max_depth': 26, 'max_features': 0.934575527630951, 'min_samples_split': 2, 'min_samples_leaf': 4, 'bootstrap': False}. Best is trial 33 with value: 0.1991397455051958.\n",
            "[I 2025-04-22 09:48:42,164] Trial 50 finished with value: 0.5536330464724462 and parameters: {'n_estimators': 394, 'max_depth': 5, 'max_features': 0.7646196689124101, 'min_samples_split': 3, 'min_samples_leaf': 1, 'bootstrap': False}. Best is trial 33 with value: 0.1991397455051958.\n",
            "[I 2025-04-22 09:58:38,647] Trial 51 finished with value: 0.20250018940850426 and parameters: {'n_estimators': 531, 'max_depth': 27, 'max_features': 0.8601375729947367, 'min_samples_split': 2, 'min_samples_leaf': 2, 'bootstrap': False}. Best is trial 33 with value: 0.1991397455051958.\n",
            "[I 2025-04-22 10:09:56,285] Trial 52 finished with value: 0.20160497576267744 and parameters: {'n_estimators': 587, 'max_depth': 30, 'max_features': 0.8932606374856522, 'min_samples_split': 2, 'min_samples_leaf': 2, 'bootstrap': False}. Best is trial 33 with value: 0.1991397455051958.\n",
            "[I 2025-04-22 10:20:20,776] Trial 53 finished with value: 0.18885652762270635 and parameters: {'n_estimators': 457, 'max_depth': 30, 'max_features': 0.9723884314424445, 'min_samples_split': 2, 'min_samples_leaf': 1, 'bootstrap': False}. Best is trial 53 with value: 0.18885652762270635.\n",
            "[I 2025-04-22 10:26:52,142] Trial 54 finished with value: 0.21555013761309158 and parameters: {'n_estimators': 450, 'max_depth': 30, 'max_features': 0.9513503538698272, 'min_samples_split': 3, 'min_samples_leaf': 1, 'bootstrap': True}. Best is trial 53 with value: 0.18885652762270635.\n",
            "[I 2025-04-22 10:31:24,188] Trial 55 finished with value: 0.22785890085184174 and parameters: {'n_estimators': 359, 'max_depth': 13, 'max_features': 0.9571565990638821, 'min_samples_split': 2, 'min_samples_leaf': 1, 'bootstrap': False}. Best is trial 53 with value: 0.18885652762270635.\n",
            "[I 2025-04-22 10:37:00,418] Trial 56 finished with value: 0.22739036605428944 and parameters: {'n_estimators': 434, 'max_depth': 29, 'max_features': 0.7338415359277303, 'min_samples_split': 9, 'min_samples_leaf': 6, 'bootstrap': False}. Best is trial 53 with value: 0.18885652762270635.\n",
            "[I 2025-04-22 10:45:59,220] Trial 57 finished with value: 0.20178196418722366 and parameters: {'n_estimators': 493, 'max_depth': 26, 'max_features': 0.918556436933382, 'min_samples_split': 4, 'min_samples_leaf': 3, 'bootstrap': False}. Best is trial 53 with value: 0.18885652762270635.\n",
            "[I 2025-04-22 10:51:54,489] Trial 58 finished with value: 0.21822974144639162 and parameters: {'n_estimators': 544, 'max_depth': 29, 'max_features': 0.6456182296364957, 'min_samples_split': 3, 'min_samples_leaf': 1, 'bootstrap': True}. Best is trial 53 with value: 0.18885652762270635.\n",
            "[I 2025-04-22 11:07:57,726] Trial 59 finished with value: 0.19841065606361738 and parameters: {'n_estimators': 825, 'max_depth': 25, 'max_features': 0.8052726591638836, 'min_samples_split': 2, 'min_samples_leaf': 1, 'bootstrap': False}. Best is trial 53 with value: 0.18885652762270635.\n",
            "[I 2025-04-22 11:22:37,043] Trial 60 finished with value: 0.2066202513508812 and parameters: {'n_estimators': 827, 'max_depth': 25, 'max_features': 0.8041059939589823, 'min_samples_split': 4, 'min_samples_leaf': 2, 'bootstrap': False}. Best is trial 53 with value: 0.18885652762270635.\n",
            "[I 2025-04-22 11:37:57,680] Trial 61 finished with value: 0.18764317607462228 and parameters: {'n_estimators': 638, 'max_depth': 28, 'max_features': 0.9958278430751338, 'min_samples_split': 2, 'min_samples_leaf': 1, 'bootstrap': False}. Best is trial 61 with value: 0.18764317607462228.\n",
            "[I 2025-04-22 11:53:04,225] Trial 62 finished with value: 0.1875442648118258 and parameters: {'n_estimators': 640, 'max_depth': 26, 'max_features': 0.9931492127697307, 'min_samples_split': 2, 'min_samples_leaf': 1, 'bootstrap': False}. Best is trial 62 with value: 0.1875442648118258.\n",
            "[I 2025-04-22 12:06:53,760] Trial 63 finished with value: 0.18773657145470865 and parameters: {'n_estimators': 629, 'max_depth': 22, 'max_features': 0.9800649656493006, 'min_samples_split': 2, 'min_samples_leaf': 1, 'bootstrap': False}. Best is trial 62 with value: 0.1875442648118258.\n",
            "[I 2025-04-22 12:28:24,904] Trial 64 finished with value: 0.19293924196357132 and parameters: {'n_estimators': 1062, 'max_depth': 22, 'max_features': 0.9954258790509526, 'min_samples_split': 2, 'min_samples_leaf': 2, 'bootstrap': False}. Best is trial 62 with value: 0.1875442648118258.\n",
            "[I 2025-04-22 12:53:28,210] Trial 65 finished with value: 0.18769883525425687 and parameters: {'n_estimators': 1201, 'max_depth': 21, 'max_features': 0.982093202797244, 'min_samples_split': 2, 'min_samples_leaf': 1, 'bootstrap': False}. Best is trial 62 with value: 0.1875442648118258.\n"
          ]
        }
      ],
      "source": [
        "# -------------------------------------------------\n",
        "# 5. OPTUNA: TUNE RANDOM FOREST (CPU)\n",
        "# -------------------------------------------------\n",
        "import optuna\n",
        "from sklearn.ensemble import RandomForestRegressor\n",
        "from sklearn.model_selection import cross_val_score\n",
        "\n",
        "def objective(trial):\n",
        "\n",
        "    params = {\n",
        "        \"n_estimators\"      : trial.suggest_int(\"n_estimators\", 300, 1500),\n",
        "        \"max_depth\"         : trial.suggest_int(\"max_depth\", 4, 30),\n",
        "        \"max_features\"      : trial.suggest_float(\"max_features\", 0.3, 1.0),\n",
        "        \"min_samples_split\" : trial.suggest_int(\"min_samples_split\", 2, 10),\n",
        "        \"min_samples_leaf\"  : trial.suggest_int(\"min_samples_leaf\", 1, 10),\n",
        "        \"bootstrap\"         : trial.suggest_categorical(\"bootstrap\", [True, False]),\n",
        "        \"random_state\"      : 42,\n",
        "        \"n_jobs\"            : -1                # đa luồng CPU\n",
        "    }\n",
        "\n",
        "    model = Pipeline([\n",
        "        (\"prep\", preprocess),                   # scaler + one‑hot\n",
        "        (\"rf\",   RandomForestRegressor(**params))\n",
        "    ])\n",
        "\n",
        "    # 5‑fold CV – Optuna sẽ MINIMIZE RMSLE\n",
        "    score = -cross_val_score(model, X_train, y_train,\n",
        "                             cv=5,\n",
        "                             scoring=rmsle_scorer,\n",
        "                             n_jobs=-1).mean()\n",
        "    return score\n",
        "\n",
        "study = optuna.create_study(direction=\"minimize\")\n",
        "study.optimize(objective, n_trials=100, show_progress_bar=True)\n",
        "\n",
        "print(\"Best RMSLE (CV):\", study.best_value)\n",
        "print(\"Best params:\", study.best_params)"
      ]
    },
    {
      "cell_type": "code",
      "execution_count": null,
      "metadata": {
        "id": "oLPIYDaScwX4"
      },
      "outputs": [],
      "source": [
        "# -------------------------------------------------\n",
        "# 6. HUẤN LUYỆN MÔ HÌNH TỐI ƯU & SO SÁNH VỚI LINEAR REG\n",
        "# -------------------------------------------------\n",
        "from sklearn.linear_model import LinearRegression\n",
        "from sklearn.metrics import mean_squared_error, r2_score\n",
        "\n",
        "# 6.1 Rf Pipeline với tham số tốt nhất\n",
        "rf_model = Pipeline([\n",
        "    (\"prep\", preprocess),\n",
        "    (\"rf\",  RandomForestRegressor(**study.best_params))\n",
        "]).fit(X_train, y_train)\n",
        "\n",
        "# 6.2 Linear Regression (có scaler sẵn trong preprocess)\n",
        "lr_model = Pipeline([\n",
        "    (\"prep\", preprocess),\n",
        "    (\"lr\",   LinearRegression())\n",
        "]).fit(X_train, y_train)\n",
        "\n",
        "# 6.3 Dự báo & đánh giá\n",
        "def evaluate(name, y_true, y_pred, k):\n",
        "    mse  = mean_squared_error(y_true, y_pred)\n",
        "    rmse = np.sqrt(mse)\n",
        "    r2   = r2_score(y_true, y_pred)\n",
        "    adj_r2 = 1 - (1 - r2) * ((len(y_true) - 1)/(len(y_true) - k - 1))\n",
        "    print(f\"\\n{name}\")\n",
        "    print(\"-\"*30)\n",
        "    print(f\"RMSE : {rmse:,.3f}\")\n",
        "    print(f\"RMSLE: {rmsle(y_true, y_pred):.3f}\")\n",
        "    print(f\"R²   : {r2:.4f} | Adj‑R²: {adj_r2:.4f}\")\n",
        "\n",
        "rf_pred = rf_model.predict(X_test)\n",
        "lr_pred  = lr_model.predict(X_test)\n",
        "\n",
        "k_features = X_train.shape[1]\n",
        "evaluate(\"Random Forest CPU\", y_test, rf_pred, k=k_features)\n",
        "evaluate(\"Linear Regression\", y_test, lr_pred, k=k_features)"
      ]
    },
    {
      "cell_type": "code",
      "execution_count": null,
      "metadata": {
        "id": "omvxBn7tc0Um"
      },
      "outputs": [],
      "source": [
        "# -------------------------------------------------\n",
        "# 7. MINH HỌA SCATTER ACTUAL vs PREDICTED\n",
        "# -------------------------------------------------\n",
        "import matplotlib.pyplot as plt\n",
        "\n",
        "models = [(\"Random Forest\", rf_pred, \"limegreen\",   \"^\"),\n",
        "          (\"Linear Reg\", lr_pred, \"salmon\", \"s\")]\n",
        "\n",
        "plt.figure(figsize=(14,6))\n",
        "for i, (name, pred, color, marker) in enumerate(models, 1):\n",
        "    plt.subplot(1,2,i)\n",
        "    plt.scatter(y_test/10, pred/10, c=color, marker=marker,\n",
        "                s=40, edgecolors=\"black\", alpha=0.5, label=name)\n",
        "    plt.plot([0,10], [0,10], \"orange\", lw=2, label=\"Perfect line\")\n",
        "    plt.xlim(0,10); plt.ylim(0,10)\n",
        "    plt.xlabel(\"Actual Price (×10 billion VND)\", fontweight=\"bold\")\n",
        "    plt.ylabel(\"Predicted Price (×10 billion VND)\", fontweight=\"bold\")\n",
        "    plt.title(name, fontweight=\"bold\", color=color)\n",
        "    plt.grid(ls=\"--\", alpha=0.6); plt.legend()\n",
        "\n",
        "plt.suptitle(\"Actual vs Predicted House Prices\", fontsize=22, color=\"darkblue\")\n",
        "plt.tight_layout(rect=[0,0.03,1,0.95])\n",
        "plt.show()"
      ]
    },
    {
      "cell_type": "code",
      "execution_count": null,
      "metadata": {
        "id": "7k6KG-kUdVmy"
      },
      "outputs": [],
      "source": [
        "# -------------------------------------------------\n",
        "# 8. IMPORT THƯ VIỆN\n",
        "# -------------------------------------------------\n",
        "\n",
        "from sklearn.ensemble import RandomForestRegressor\n",
        "from sklearn.linear_model import LinearRegression, RidgeCV\n",
        "from sklearn.pipeline import Pipeline\n",
        "from sklearn.ensemble import StackingRegressor\n",
        "from sklearn.model_selection import cross_val_predict, KFold\n",
        "from sklearn.metrics import mean_squared_error, mean_squared_log_error, r2_score\n",
        "import numpy as np"
      ]
    },
    {
      "cell_type": "code",
      "execution_count": null,
      "metadata": {
        "id": "OKvHJH6Gdbdt"
      },
      "outputs": [],
      "source": [
        "# -------------------------------------------------\n",
        "# 9. BASE MODEL (đều bọc trong pipeline có 'prep')\n",
        "# -------------------------------------------------\n",
        "rf_pipe = Pipeline([\n",
        "        (\"prep\", preprocess),\n",
        "        (\"rf\",  RandomForestRegressor(**study.best_params))\n",
        "])\n",
        "\n",
        "lin_pipe = Pipeline([\n",
        "        (\"prep\", preprocess),\n",
        "        (\"lr\",   LinearRegression())\n",
        "])"
      ]
    },
    {
      "cell_type": "code",
      "execution_count": null,
      "metadata": {
        "id": "SLRdCPaVdknR"
      },
      "outputs": [],
      "source": [
        "# -------------------------------------------------\n",
        "# 10. META‑MODEL  (RidgeCV cho chắc chắn)\n",
        "# -------------------------------------------------\n",
        "meta_model = RidgeCV(alphas=np.logspace(-3,3,13))"
      ]
    },
    {
      "cell_type": "code",
      "execution_count": null,
      "metadata": {
        "id": "dDFd3uDBdlKa"
      },
      "outputs": [],
      "source": [
        "# -------------------------------------------------\n",
        "# 11. STACKING REGRESSION  (K=10 fold, shuffle)\n",
        "# -------------------------------------------------\n",
        "stack = StackingRegressor(\n",
        "        estimators=[('rf', rf_pipe),\n",
        "                    ('lin', lin_pipe)],\n",
        "        final_estimator=meta_model,\n",
        "        cv=KFold(n_splits=10, shuffle=True, random_state=42),\n",
        "        n_jobs=-1,\n",
        "        passthrough=False    # chỉ dùng dự báo base model\n",
        ")"
      ]
    },
    {
      "cell_type": "code",
      "execution_count": null,
      "metadata": {
        "id": "sIFAT7-bdq3V"
      },
      "outputs": [],
      "source": [
        "# -------------------------------------------------\n",
        "# 12. HUẤN LUYỆN\n",
        "# -------------------------------------------------\n",
        "stack.fit(X_train, y_train)\n"
      ]
    },
    {
      "cell_type": "code",
      "execution_count": null,
      "metadata": {
        "id": "Bwsze7Vndsjp"
      },
      "outputs": [],
      "source": [
        "# -------------------------------------------------\n",
        "# 13. ĐÁNH GIÁ DỰA TRÊN TẬP TEST\n",
        "# -------------------------------------------------\n",
        "pred_test = stack.predict(X_test)\n",
        "\n",
        "rmse  = np.sqrt(mean_squared_error(y_test, pred_test))\n",
        "rmsle = np.sqrt(mean_squared_log_error(\n",
        "                    np.clip(y_test, 0, None)+1,\n",
        "                    np.clip(pred_test, 0, None)+1))\n",
        "r2    = r2_score(y_test, pred_test)\n",
        "\n",
        "print(f\"RMSE  : {rmse:,.3f}\")\n",
        "print(f\"RMSLE : {rmsle:.3f}\")\n",
        "print(f\"R²    : {r2:.4f}\")"
      ]
    },
    {
      "cell_type": "code",
      "execution_count": null,
      "metadata": {
        "id": "IlOqixAhdvGG"
      },
      "outputs": [],
      "source": [
        "# -------------------------------------------------\n",
        "# 14. VẼ SCATTER\n",
        "# -------------------------------------------------\n",
        "plt.figure(figsize=(10, 8))\n",
        "plt.title(\"Final Stacked Model: Actual vs. Predicted House Prices\", fontsize=24, fontweight='bold', color='darkblue')\n",
        "\n",
        "plt.scatter(y_test / 10, pred_test / 10,\n",
        "            color='dodgerblue', marker='o', edgecolors=\"black\", alpha=0.7, s=100, label=\"Final Stacked Model\")\n",
        "\n",
        "plt.plot([0, 8], [0, 8], \"orange\", lw=3, label=\"Perfect Prediction Line\")\n",
        "\n",
        "plt.xlim(0, 8)\n",
        "plt.ylim(0, 8)\n",
        "plt.xlabel(\"Actual Price (×10 billion VND)\", fontsize=18, fontweight='bold')\n",
        "plt.ylabel(\"Predicted Price (×10 billion VND)\", fontsize=18, fontweight='bold')\n",
        "plt.grid(True, linestyle='--', alpha=0.6)\n",
        "plt.xticks(fontsize=14)\n",
        "plt.yticks(fontsize=14)\n",
        "plt.legend(loc=\"lower right\", fontsize=16)\n",
        "plt.tight_layout()\n",
        "plt.show()"
      ]
    },
    {
      "cell_type": "code",
      "execution_count": null,
      "metadata": {
        "id": "6rfTvIAbdyxO"
      },
      "outputs": [],
      "source": [
        "# -------------------------------------------------\n",
        "# 15. TRIỂN KHAI\n",
        "# -------------------------------------------------\n",
        "deploy_pred = stack.predict(X_test)\n",
        "pd.DataFrame({\"Price\": deploy_pred}) \\\n",
        "  .to_csv(\"Submission_Stack(Rf+Lr).csv\", index=False)\n",
        "\n",
        "print(\"Saved file: Submission_Stack(Rf+Lr).csv\")"
      ]
    }
  ],
  "metadata": {
    "colab": {
      "provenance": []
    },
    "kernelspec": {
      "display_name": "Python 3",
      "name": "python3"
    },
    "language_info": {
      "name": "python",
      "version": "3.11.9"
    },
    "widgets": {
      "application/vnd.jupyter.widget-state+json": {
        "18695df4fa264b54b09052fbacc87134": {
          "model_module": "@jupyter-widgets/base",
          "model_module_version": "1.2.0",
          "model_name": "LayoutModel",
          "state": {
            "_model_module": "@jupyter-widgets/base",
            "_model_module_version": "1.2.0",
            "_model_name": "LayoutModel",
            "_view_count": null,
            "_view_module": "@jupyter-widgets/base",
            "_view_module_version": "1.2.0",
            "_view_name": "LayoutView",
            "align_content": null,
            "align_items": null,
            "align_self": null,
            "border": null,
            "bottom": null,
            "display": null,
            "flex": null,
            "flex_flow": null,
            "grid_area": null,
            "grid_auto_columns": null,
            "grid_auto_flow": null,
            "grid_auto_rows": null,
            "grid_column": null,
            "grid_gap": null,
            "grid_row": null,
            "grid_template_areas": null,
            "grid_template_columns": null,
            "grid_template_rows": null,
            "height": null,
            "justify_content": null,
            "justify_items": null,
            "left": null,
            "margin": null,
            "max_height": null,
            "max_width": null,
            "min_height": null,
            "min_width": null,
            "object_fit": null,
            "object_position": null,
            "order": null,
            "overflow": null,
            "overflow_x": null,
            "overflow_y": null,
            "padding": null,
            "right": null,
            "top": null,
            "visibility": null,
            "width": null
          }
        },
        "2b97036f5e59424d8eb733facf610161": {
          "model_module": "@jupyter-widgets/controls",
          "model_module_version": "1.5.0",
          "model_name": "FloatProgressModel",
          "state": {
            "_dom_classes": [],
            "_model_module": "@jupyter-widgets/controls",
            "_model_module_version": "1.5.0",
            "_model_name": "FloatProgressModel",
            "_view_count": null,
            "_view_module": "@jupyter-widgets/controls",
            "_view_module_version": "1.5.0",
            "_view_name": "ProgressView",
            "bar_style": "",
            "description": "",
            "description_tooltip": null,
            "layout": "IPY_MODEL_82a4d80e4d6b45eca9ef27fab2170d05",
            "max": 100,
            "min": 0,
            "orientation": "horizontal",
            "style": "IPY_MODEL_74186d3ef9004953a23509dfb85d3ada",
            "value": 66
          }
        },
        "3fadf15e0fa84e6a96c9ead65512414b": {
          "model_module": "@jupyter-widgets/controls",
          "model_module_version": "1.5.0",
          "model_name": "HTMLModel",
          "state": {
            "_dom_classes": [],
            "_model_module": "@jupyter-widgets/controls",
            "_model_module_version": "1.5.0",
            "_model_name": "HTMLModel",
            "_view_count": null,
            "_view_module": "@jupyter-widgets/controls",
            "_view_module_version": "1.5.0",
            "_view_name": "HTMLView",
            "description": "",
            "description_tooltip": null,
            "layout": "IPY_MODEL_cc4604aee43243b4b46cbe444e364a58",
            "placeholder": "​",
            "style": "IPY_MODEL_5ae4f6561ffb49aa845daa52f386e567",
            "value": " 66/100 [11:36:20&lt;10:32:30, 1116.20s/it]"
          }
        },
        "5ae4f6561ffb49aa845daa52f386e567": {
          "model_module": "@jupyter-widgets/controls",
          "model_module_version": "1.5.0",
          "model_name": "DescriptionStyleModel",
          "state": {
            "_model_module": "@jupyter-widgets/controls",
            "_model_module_version": "1.5.0",
            "_model_name": "DescriptionStyleModel",
            "_view_count": null,
            "_view_module": "@jupyter-widgets/base",
            "_view_module_version": "1.2.0",
            "_view_name": "StyleView",
            "description_width": ""
          }
        },
        "74186d3ef9004953a23509dfb85d3ada": {
          "model_module": "@jupyter-widgets/controls",
          "model_module_version": "1.5.0",
          "model_name": "ProgressStyleModel",
          "state": {
            "_model_module": "@jupyter-widgets/controls",
            "_model_module_version": "1.5.0",
            "_model_name": "ProgressStyleModel",
            "_view_count": null,
            "_view_module": "@jupyter-widgets/base",
            "_view_module_version": "1.2.0",
            "_view_name": "StyleView",
            "bar_color": null,
            "description_width": ""
          }
        },
        "82a4d80e4d6b45eca9ef27fab2170d05": {
          "model_module": "@jupyter-widgets/base",
          "model_module_version": "1.2.0",
          "model_name": "LayoutModel",
          "state": {
            "_model_module": "@jupyter-widgets/base",
            "_model_module_version": "1.2.0",
            "_model_name": "LayoutModel",
            "_view_count": null,
            "_view_module": "@jupyter-widgets/base",
            "_view_module_version": "1.2.0",
            "_view_name": "LayoutView",
            "align_content": null,
            "align_items": null,
            "align_self": null,
            "border": null,
            "bottom": null,
            "display": null,
            "flex": null,
            "flex_flow": null,
            "grid_area": null,
            "grid_auto_columns": null,
            "grid_auto_flow": null,
            "grid_auto_rows": null,
            "grid_column": null,
            "grid_gap": null,
            "grid_row": null,
            "grid_template_areas": null,
            "grid_template_columns": null,
            "grid_template_rows": null,
            "height": null,
            "justify_content": null,
            "justify_items": null,
            "left": null,
            "margin": null,
            "max_height": null,
            "max_width": null,
            "min_height": null,
            "min_width": null,
            "object_fit": null,
            "object_position": null,
            "order": null,
            "overflow": null,
            "overflow_x": null,
            "overflow_y": null,
            "padding": null,
            "right": null,
            "top": null,
            "visibility": null,
            "width": null
          }
        },
        "8f7d9a9f283440ce8385f23439c609b7": {
          "model_module": "@jupyter-widgets/controls",
          "model_module_version": "1.5.0",
          "model_name": "DescriptionStyleModel",
          "state": {
            "_model_module": "@jupyter-widgets/controls",
            "_model_module_version": "1.5.0",
            "_model_name": "DescriptionStyleModel",
            "_view_count": null,
            "_view_module": "@jupyter-widgets/base",
            "_view_module_version": "1.2.0",
            "_view_name": "StyleView",
            "description_width": ""
          }
        },
        "a272af88342348ca8ae321e1394f13ae": {
          "model_module": "@jupyter-widgets/controls",
          "model_module_version": "1.5.0",
          "model_name": "HTMLModel",
          "state": {
            "_dom_classes": [],
            "_model_module": "@jupyter-widgets/controls",
            "_model_module_version": "1.5.0",
            "_model_name": "HTMLModel",
            "_view_count": null,
            "_view_module": "@jupyter-widgets/controls",
            "_view_module_version": "1.5.0",
            "_view_name": "HTMLView",
            "description": "",
            "description_tooltip": null,
            "layout": "IPY_MODEL_b2f43aa06ff54ca9a1fa91206d49861c",
            "placeholder": "​",
            "style": "IPY_MODEL_8f7d9a9f283440ce8385f23439c609b7",
            "value": "Best trial: 62. Best value: 0.187544:  66%"
          }
        },
        "b2f43aa06ff54ca9a1fa91206d49861c": {
          "model_module": "@jupyter-widgets/base",
          "model_module_version": "1.2.0",
          "model_name": "LayoutModel",
          "state": {
            "_model_module": "@jupyter-widgets/base",
            "_model_module_version": "1.2.0",
            "_model_name": "LayoutModel",
            "_view_count": null,
            "_view_module": "@jupyter-widgets/base",
            "_view_module_version": "1.2.0",
            "_view_name": "LayoutView",
            "align_content": null,
            "align_items": null,
            "align_self": null,
            "border": null,
            "bottom": null,
            "display": null,
            "flex": null,
            "flex_flow": null,
            "grid_area": null,
            "grid_auto_columns": null,
            "grid_auto_flow": null,
            "grid_auto_rows": null,
            "grid_column": null,
            "grid_gap": null,
            "grid_row": null,
            "grid_template_areas": null,
            "grid_template_columns": null,
            "grid_template_rows": null,
            "height": null,
            "justify_content": null,
            "justify_items": null,
            "left": null,
            "margin": null,
            "max_height": null,
            "max_width": null,
            "min_height": null,
            "min_width": null,
            "object_fit": null,
            "object_position": null,
            "order": null,
            "overflow": null,
            "overflow_x": null,
            "overflow_y": null,
            "padding": null,
            "right": null,
            "top": null,
            "visibility": null,
            "width": null
          }
        },
        "cc4604aee43243b4b46cbe444e364a58": {
          "model_module": "@jupyter-widgets/base",
          "model_module_version": "1.2.0",
          "model_name": "LayoutModel",
          "state": {
            "_model_module": "@jupyter-widgets/base",
            "_model_module_version": "1.2.0",
            "_model_name": "LayoutModel",
            "_view_count": null,
            "_view_module": "@jupyter-widgets/base",
            "_view_module_version": "1.2.0",
            "_view_name": "LayoutView",
            "align_content": null,
            "align_items": null,
            "align_self": null,
            "border": null,
            "bottom": null,
            "display": null,
            "flex": null,
            "flex_flow": null,
            "grid_area": null,
            "grid_auto_columns": null,
            "grid_auto_flow": null,
            "grid_auto_rows": null,
            "grid_column": null,
            "grid_gap": null,
            "grid_row": null,
            "grid_template_areas": null,
            "grid_template_columns": null,
            "grid_template_rows": null,
            "height": null,
            "justify_content": null,
            "justify_items": null,
            "left": null,
            "margin": null,
            "max_height": null,
            "max_width": null,
            "min_height": null,
            "min_width": null,
            "object_fit": null,
            "object_position": null,
            "order": null,
            "overflow": null,
            "overflow_x": null,
            "overflow_y": null,
            "padding": null,
            "right": null,
            "top": null,
            "visibility": null,
            "width": null
          }
        },
        "e993d274c41f42cf8dfe6eefb37a7d9c": {
          "model_module": "@jupyter-widgets/controls",
          "model_module_version": "1.5.0",
          "model_name": "HBoxModel",
          "state": {
            "_dom_classes": [],
            "_model_module": "@jupyter-widgets/controls",
            "_model_module_version": "1.5.0",
            "_model_name": "HBoxModel",
            "_view_count": null,
            "_view_module": "@jupyter-widgets/controls",
            "_view_module_version": "1.5.0",
            "_view_name": "HBoxView",
            "box_style": "",
            "children": [
              "IPY_MODEL_a272af88342348ca8ae321e1394f13ae",
              "IPY_MODEL_2b97036f5e59424d8eb733facf610161",
              "IPY_MODEL_3fadf15e0fa84e6a96c9ead65512414b"
            ],
            "layout": "IPY_MODEL_18695df4fa264b54b09052fbacc87134"
          }
        }
      }
    }
  },
  "nbformat": 4,
  "nbformat_minor": 0
}
