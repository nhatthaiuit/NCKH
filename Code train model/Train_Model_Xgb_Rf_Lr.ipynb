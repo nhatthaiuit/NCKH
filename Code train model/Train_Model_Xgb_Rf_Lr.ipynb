{
  "nbformat": 4,
  "nbformat_minor": 0,
  "metadata": {
    "colab": {
      "provenance": []
    },
    "kernelspec": {
      "name": "python3",
      "display_name": "Python 3"
    },
    "language_info": {
      "name": "python"
    }
  },
  "cells": [
    {
      "cell_type": "code",
      "source": [
        "# =====================================================\n",
        "#     Tên: Real Estate Price Prediction\n",
        "#     Nghiên cứu khoa học: \"Nghiên cứu tối ưu mô hình kết hợp\n",
        "#     trong việc dự đoán giá nhà tại Hà Nội\"\n",
        "#     Mô hình sử dụng: Linear Regression & XGBoost & Random Forest\n",
        "# ====================================================="
      ],
      "metadata": {
        "id": "BifOwNQ8EhIi"
      },
      "execution_count": null,
      "outputs": []
    },
    {
      "cell_type": "code",
      "source": [
        "# -------------------------------------------------\n",
        "# 0. CÀI THƯ VIỆN (Colab cài mới nhất đã hỗ trợ GPU)\n",
        "# -------------------------------------------------\n",
        "!pip install -U xgboost optuna --quiet"
      ],
      "metadata": {
        "id": "3PdcLz6WEj14"
      },
      "execution_count": null,
      "outputs": []
    },
    {
      "cell_type": "code",
      "source": [
        "# -------------------------------------------------\n",
        "# 1. IMPORT & ĐỌC DỮ LIỆU\n",
        "# -------------------------------------------------\n",
        "import pandas as pd\n",
        "import numpy as np\n",
        "from pathlib import Path\n",
        "\n",
        "# --- tải/đọc CSV ---\n",
        "DATA_PATH = Path(\"data_processing.csv\")\n",
        "if not DATA_PATH.exists():\n",
        "    raise FileNotFoundError(f\"Không tìm thấy file: {DATA_PATH}\")\n",
        "data = pd.read_csv(DATA_PATH)\n",
        "\n",
        "target = \"price\"\n",
        "y = data[target]\n",
        "X = data.drop(columns=[target])"
      ],
      "metadata": {
        "id": "0ooQYRIlEnPB"
      },
      "execution_count": null,
      "outputs": []
    },
    {
      "cell_type": "code",
      "source": [
        "# -------------------------------------------------\n",
        "# 2. TIỀN XỬ LÝ: ColumnTransformer + Pipeline\n",
        "# -------------------------------------------------\n",
        "from sklearn.compose import ColumnTransformer\n",
        "from sklearn.preprocessing import StandardScaler\n",
        "from sklearn.pipeline import Pipeline\n",
        "\n",
        "num_cols  = X.select_dtypes(include=[\"int64\", \"float64\"]).columns\n",
        "bool_cols = X.select_dtypes(include=[\"bool\"]).columns  # 1‑hot district\n",
        "\n",
        "preprocess = ColumnTransformer([\n",
        "    (\"num\",  StandardScaler(),   num_cols),\n",
        "    (\"bool\", \"passthrough\",      bool_cols)  # giữ nguyên 0/1\n",
        "])"
      ],
      "metadata": {
        "id": "YOCZsHzyEqzB"
      },
      "execution_count": null,
      "outputs": []
    },
    {
      "cell_type": "code",
      "source": [
        "# -------------------------------------------------\n",
        "# 3. ĐỊNH NGHĨA RMSLE & SCORER\n",
        "# -------------------------------------------------\n",
        "from sklearn.metrics import make_scorer, mean_squared_log_error\n",
        "\n",
        "def rmsle(y_true, y_pred):\n",
        "    # Cắt giá trị về >= 0 để tránh log(âm)\n",
        "    y_true = np.clip(y_true, 0, None)\n",
        "    y_pred = np.clip(y_pred, 0, None)\n",
        "    return np.sqrt(mean_squared_log_error(y_true, y_pred))\n",
        "\n",
        "# Tạo scorer cho cross_val_score,\n",
        "rmsle_scorer = make_scorer(rmsle, greater_is_better=False)"
      ],
      "metadata": {
        "id": "r0f07Ub4Et7s"
      },
      "execution_count": null,
      "outputs": []
    },
    {
      "cell_type": "code",
      "source": [
        "# -------------------------------------------------\n",
        "# 4. TÁCH TRAIN / TEST (80 % / 20 %)\n",
        "# -------------------------------------------------\n",
        "from sklearn.model_selection import train_test_split\n",
        "X_train, X_test, y_train, y_test = train_test_split(\n",
        "    X, y, test_size=0.2, random_state=42\n",
        ")"
      ],
      "metadata": {
        "id": "YDZsRB6EEuqY"
      },
      "execution_count": null,
      "outputs": []
    },
    {
      "cell_type": "code",
      "source": [
        "# -------------------------------------------------\n",
        "# 5. OPTUNA: TUNE XGBOOST GPU\n",
        "# -------------------------------------------------\n",
        "import optuna\n",
        "from xgboost import XGBRegressor\n",
        "from sklearn.model_selection import cross_val_score\n",
        "\n",
        "def objective(trial):\n",
        "    params = {\n",
        "        \"n_estimators\"     : trial.suggest_int(\"n_estimators\", 300, 1500),\n",
        "        \"max_depth\"        : trial.suggest_int(\"max_depth\", 4, 18),\n",
        "        \"learning_rate\"    : trial.suggest_float(\"learning_rate\", 0.01, 0.3, log=True),\n",
        "        \"subsample\"        : trial.suggest_float(\"subsample\", 0.6, 1.0),\n",
        "        \"colsample_bytree\" : trial.suggest_float(\"colsample_bytree\", 0.6, 1.0),\n",
        "        \"gamma\"            : trial.suggest_float(\"gamma\", 0, 5.0),\n",
        "        \"reg_alpha\"        : trial.suggest_float(\"reg_alpha\", 0.1, 10.0, log=True),\n",
        "        \"reg_lambda\"       : trial.suggest_float(\"reg_lambda\", 0.1, 10.0, log=True),\n",
        "        \"min_child_weight\" : trial.suggest_float(\"min_child_weight\", 1, 20),\n",
        "        # --- BẬT GPU ---\n",
        "        \"tree_method\"      : \"gpu_hist\",\n",
        "        \"predictor\"        : \"gpu_predictor\",\n",
        "        \"gpu_id\"           : 0,\n",
        "        \"random_state\"     : 42,\n",
        "    }\n",
        "\n",
        "    model = Pipeline([\n",
        "        (\"prep\", preprocess),\n",
        "        (\"xgb\",  XGBRegressor(**params))\n",
        "    ])\n",
        "\n",
        "    # cross‑val 5 fold, tối thiểu RMSLE\n",
        "    score = -cross_val_score(model, X_train, y_train,\n",
        "                             cv=5,\n",
        "                             scoring=rmsle_scorer,\n",
        "                             n_jobs=-1).mean()\n",
        "    return score\n",
        "\n",
        "study = optuna.create_study(direction=\"minimize\")\n",
        "study.optimize(objective, n_trials=100, show_progress_bar=True)\n",
        "\n",
        "print(\"Best RMSLE (CV):\", study.best_value)\n",
        "print(\"Best params:\", study.best_params)"
      ],
      "metadata": {
        "id": "bZP1D9a-Exu_"
      },
      "execution_count": null,
      "outputs": []
    },
    {
      "cell_type": "code",
      "source": [
        "# -------------------------------------------------\n",
        "# 6. OPTUNA: TUNE RANDOM FOREST (CPU)\n",
        "# -------------------------------------------------\n",
        "import optuna\n",
        "from sklearn.ensemble import RandomForestRegressor\n",
        "from sklearn.model_selection import cross_val_score\n",
        "\n",
        "def objective(trial):\n",
        "\n",
        "    params = {\n",
        "        \"n_estimators\"      : trial.suggest_int(\"n_estimators\", 300, 1500),\n",
        "        \"max_depth\"         : trial.suggest_int(\"max_depth\", 4, 30),\n",
        "        \"max_features\"      : trial.suggest_float(\"max_features\", 0.3, 1.0),\n",
        "        \"min_samples_split\" : trial.suggest_int(\"min_samples_split\", 2, 10),\n",
        "        \"min_samples_leaf\"  : trial.suggest_int(\"min_samples_leaf\", 1, 10),\n",
        "        \"bootstrap\"         : trial.suggest_categorical(\"bootstrap\", [True, False]),\n",
        "        \"random_state\"      : 42,\n",
        "        \"n_jobs\"            : -1                # đa luồng CPU\n",
        "    }\n",
        "\n",
        "    model = Pipeline([\n",
        "        (\"prep\", preprocess),                   # scaler + one‑hot\n",
        "        (\"rf\",   RandomForestRegressor(**params))\n",
        "    ])\n",
        "\n",
        "    # 5‑fold CV – Optuna sẽ MINIMIZE RMSLE\n",
        "    score = -cross_val_score(model, X_train, y_train,\n",
        "                             cv=5,\n",
        "                             scoring=rmsle_scorer,\n",
        "                             n_jobs=-1).mean()\n",
        "    return score\n",
        "\n",
        "study = optuna.create_study(direction=\"minimize\")\n",
        "study.optimize(objective, n_trials=100, show_progress_bar=True)\n",
        "\n",
        "print(\"Best RMSLE (CV):\", study.best_value)\n",
        "print(\"Best params:\", study.best_params)"
      ],
      "metadata": {
        "id": "UqecllLXFb_L"
      },
      "execution_count": null,
      "outputs": []
    },
    {
      "cell_type": "code",
      "source": [
        "# -------------------------------------------------\n",
        "# 7. HUẤN LUYỆN MÔ HÌNH TỐI ƯU & SO SÁNH VỚI LINEAR REG\n",
        "# -------------------------------------------------\n",
        "from sklearn.linear_model import LinearRegression\n",
        "from sklearn.metrics import mean_squared_error, r2_score\n",
        "\n",
        "# 7.1 Rf Pipeline với tham số tốt nhất\n",
        "rf_model = Pipeline([\n",
        "    (\"prep\", preprocess),\n",
        "    (\"rf\",  RandomForestRegressor(**study.best_params))\n",
        "]).fit(X_train, y_train)\n",
        "\n",
        "# 7.2 XGB Pipeline với tham số tốt nhất\n",
        "xgb_model = Pipeline([\n",
        "    (\"prep\", preprocess),\n",
        "    (\"xgb\",  XGBRegressor(**study.best_params))\n",
        "]).fit(X_train, y_train)\n",
        "\n",
        "# 7.3 Linear Regression (có scaler sẵn trong preprocess)\n",
        "lr_model = Pipeline([\n",
        "    (\"prep\", preprocess),\n",
        "    (\"lr\",   LinearRegression())\n",
        "]).fit(X_train, y_train)\n",
        "\n",
        "# 7.4 Dự báo & đánh giá\n",
        "def evaluate(name, y_true, y_pred, k):\n",
        "    mse  = mean_squared_error(y_true, y_pred)\n",
        "    rmse = np.sqrt(mse)\n",
        "    r2   = r2_score(y_true, y_pred)\n",
        "    adj_r2 = 1 - (1 - r2) * ((len(y_true) - 1)/(len(y_true) - k - 1))\n",
        "    print(f\"\\n{name}\")\n",
        "    print(\"-\"*30)\n",
        "    print(f\"RMSE : {rmse:,.3f}\")\n",
        "    print(f\"RMSLE: {rmsle(y_true, y_pred):.3f}\")\n",
        "    print(f\"R²   : {r2:.4f} | Adj‑R²: {adj_r2:.4f}\")\n",
        "\n",
        "rf_pred = rf_model.predict(X_test)\n",
        "xgb_pred = xgb_model.predict(X_test)\n",
        "lr_pred  = lr_model.predict(X_test)\n",
        "\n",
        "k_features = X_train.shape[1]\n",
        "evaluate(\"Random Forest CPU\", y_test, rf_pred, k=k_features)\n",
        "evaluate(\"XGBoost GPU\", y_test, xgb_pred, k=k_features)\n",
        "evaluate(\"Linear Regression\", y_test, lr_pred, k=k_features)"
      ],
      "metadata": {
        "id": "dGnB3Np1F7v6"
      },
      "execution_count": null,
      "outputs": []
    },
    {
      "cell_type": "code",
      "source": [
        "# -------------------------------------------------\n",
        "# 8. MINH HỌA SCATTER ACTUAL vs PREDICTED\n",
        "# -------------------------------------------------\n",
        "import matplotlib.pyplot as plt\n",
        "\n",
        "models = [(\"Random Forest\", rf_pred, \"limegreen\",   \"^\"),\n",
        "          (\"XGBoost\", xgb_pred, \"deepskyblue\", \"o\"),\n",
        "          (\"Linear Reg\", lr_pred, \"salmon\", \"s\")]\n",
        "\n",
        "plt.figure(figsize=(14,6))\n",
        "for i, (name, pred, color, marker) in enumerate(models, 1):\n",
        "    plt.subplot(1,2,i)\n",
        "    plt.scatter(y_test/10, pred/10, c=color, marker=marker,\n",
        "                s=40, edgecolors=\"black\", alpha=0.5, label=name)\n",
        "    plt.plot([0,10], [0,10], \"orange\", lw=2, label=\"Perfect line\")\n",
        "    plt.xlim(0,10); plt.ylim(0,10)\n",
        "    plt.xlabel(\"Actual Price (×10 billion VND)\", fontweight=\"bold\")\n",
        "    plt.ylabel(\"Predicted Price (×10 billion VND)\", fontweight=\"bold\")\n",
        "    plt.title(name, fontweight=\"bold\", color=color)\n",
        "    plt.grid(ls=\"--\", alpha=0.6); plt.legend()\n",
        "\n",
        "plt.suptitle(\"Actual vs Predicted House Prices\", fontsize=22, color=\"darkblue\")\n",
        "plt.tight_layout(rect=[0,0.03,1,0.95])\n",
        "plt.show()"
      ],
      "metadata": {
        "id": "PwWObU8fGXRI"
      },
      "execution_count": null,
      "outputs": []
    },
    {
      "cell_type": "code",
      "source": [
        "# -------------------------------------------------\n",
        "# 9. IMPORT THƯ VIỆN\n",
        "# -------------------------------------------------\n",
        "\n",
        "from xgboost import XGBRegressor\n",
        "from sklearn.ensemble import RandomForestRegressor\n",
        "from sklearn.linear_model import LinearRegression, RidgeCV\n",
        "from sklearn.pipeline import Pipeline\n",
        "from sklearn.ensemble import StackingRegressor\n",
        "from sklearn.model_selection import cross_val_predict, KFold\n",
        "from sklearn.metrics import mean_squared_error, mean_squared_log_error, r2_score\n",
        "import numpy as np"
      ],
      "metadata": {
        "id": "upNuFwjBG8g7"
      },
      "execution_count": null,
      "outputs": []
    },
    {
      "cell_type": "code",
      "source": [
        "# -------------------------------------------------\n",
        "# 10. BASE MODEL (đều bọc trong pipeline có 'prep')\n",
        "# -------------------------------------------------\n",
        "rf_pipe = Pipeline([\n",
        "        (\"prep\", preprocess),\n",
        "        (\"rf\",  RandomForestRegressor(**study.best_params))\n",
        "])\n",
        "\n",
        "xgb_pipe = Pipeline([\n",
        "        (\"prep\", preprocess),\n",
        "        (\"xgb\",  XGBRegressor(**study.best_params))\n",
        "])\n",
        "\n",
        "lin_pipe = Pipeline([\n",
        "        (\"prep\", preprocess),\n",
        "        (\"lr\",   LinearRegression())\n",
        "])"
      ],
      "metadata": {
        "id": "tJsSV5cfHLch"
      },
      "execution_count": null,
      "outputs": []
    },
    {
      "cell_type": "code",
      "source": [
        "# -------------------------------------------------\n",
        "# 10. META‑MODEL  (RidgeCV cho chắc chắn)\n",
        "# -------------------------------------------------\n",
        "meta_model = RidgeCV(alphas=np.logspace(-3,3,13))"
      ],
      "metadata": {
        "id": "St6JxdgCHSa8"
      },
      "execution_count": null,
      "outputs": []
    },
    {
      "cell_type": "code",
      "source": [
        "# -------------------------------------------------\n",
        "# 11. STACKING REGRESSION  (K=10 fold, shuffle)\n",
        "# -------------------------------------------------\n",
        "stack = StackingRegressor(\n",
        "        estimators=[('rf', rf_pipe),\n",
        "                    ('xgb', xgb_pipe),\n",
        "                    ('lin', lin_pipe)],\n",
        "        final_estimator=meta_model,\n",
        "        cv=KFold(n_splits=10, shuffle=True, random_state=42),\n",
        "        n_jobs=-1,\n",
        "        passthrough=False    # chỉ dùng dự báo base model\n",
        ")"
      ],
      "metadata": {
        "id": "_-eeFmFKHWR4"
      },
      "execution_count": null,
      "outputs": []
    },
    {
      "cell_type": "code",
      "source": [
        "# -------------------------------------------------\n",
        "# 12. HUẤN LUYỆN\n",
        "# -------------------------------------------------\n",
        "stack.fit(X_train, y_train)"
      ],
      "metadata": {
        "id": "8byIwIKVHezR"
      },
      "execution_count": null,
      "outputs": []
    },
    {
      "cell_type": "code",
      "source": [
        "# -------------------------------------------------\n",
        "# 13. ĐÁNH GIÁ DỰA TRÊN TẬP TEST\n",
        "# -------------------------------------------------\n",
        "pred_test = stack.predict(X_test)\n",
        "\n",
        "rmse  = np.sqrt(mean_squared_error(y_test, pred_test))\n",
        "rmsle = np.sqrt(mean_squared_log_error(\n",
        "                    np.clip(y_test, 0, None)+1,\n",
        "                    np.clip(pred_test, 0, None)+1))\n",
        "r2    = r2_score(y_test, pred_test)\n",
        "\n",
        "print(f\"RMSE  : {rmse:,.3f}\")\n",
        "print(f\"RMSLE : {rmsle:.3f}\")\n",
        "print(f\"R²    : {r2:.4f}\")"
      ],
      "metadata": {
        "id": "rWSRPLNeHi2V"
      },
      "execution_count": null,
      "outputs": []
    },
    {
      "cell_type": "code",
      "source": [
        "# -------------------------------------------------\n",
        "# 14. VẼ SCATTER\n",
        "# -------------------------------------------------\n",
        "plt.figure(figsize=(10, 8))\n",
        "plt.title(\"Final Stacked Model: Actual vs. Predicted House Prices\", fontsize=24, fontweight='bold', color='darkblue')\n",
        "\n",
        "plt.scatter(y_test / 10, pred_test / 10,\n",
        "            color='dodgerblue', marker='o', edgecolors=\"black\", alpha=0.7, s=100, label=\"Final Stacked Model\")\n",
        "\n",
        "plt.plot([0, 8], [0, 8], \"orange\", lw=3, label=\"Perfect Prediction Line\")\n",
        "\n",
        "plt.xlim(0, 8)\n",
        "plt.ylim(0, 8)\n",
        "plt.xlabel(\"Actual Price (×10 billion VND)\", fontsize=18, fontweight='bold')\n",
        "plt.ylabel(\"Predicted Price (×10 billion VND)\", fontsize=18, fontweight='bold')\n",
        "plt.grid(True, linestyle='--', alpha=0.6)\n",
        "plt.xticks(fontsize=14)\n",
        "plt.yticks(fontsize=14)\n",
        "plt.legend(loc=\"lower right\", fontsize=16)\n",
        "plt.tight_layout()\n",
        "plt.show()"
      ],
      "metadata": {
        "id": "V7lER1zhHkN4"
      },
      "execution_count": null,
      "outputs": []
    },
    {
      "cell_type": "code",
      "source": [
        "# -------------------------------------------------\n",
        "# 15. TRIỂN KHAI\n",
        "# -------------------------------------------------\n",
        "deploy_pred = stack.predict(X_test)\n",
        "pd.DataFrame({\"Price\": deploy_pred}) \\\n",
        "  .to_csv(\"Submission_Stack_(Rf+Xgb+Lr).csv\", index=False)\n",
        "\n",
        "print(\"Saved file: Submission_Stack_(Rf+Xgb+Lr).csv\")"
      ],
      "metadata": {
        "id": "UxXvClwbHp9X"
      },
      "execution_count": null,
      "outputs": []
    }
  ]
}